{
 "cells": [
  {
   "cell_type": "code",
   "execution_count": 1,
   "id": "f219bef8",
   "metadata": {},
   "outputs": [],
   "source": [
    "import requests\n",
    "from stockInfo import StockInfo\n",
    "from requests import  HTTPError,ConnectionError,Timeout\n",
    "\n",
    "def getData(stock):\n",
    "    stockInfo = StockInfo()\n",
    "    stockInfo.id = stock\n",
    "    url = \"https://www.wantgoo.com/investrue/\"+stock+\"/daily-candlestick\"\n",
    "    header = {\"user-agent\":\"Mozilla/5.0 (Macintosh; Intel Mac OS X 10_15_7) AppleWebKit/537.36 (KHTML, like Gecko) Chrome/92.0.4515.131 Safari/537.36\"}\n",
    "    try:\n",
    "        response=requests.get(url,headers=header)\n",
    "        response.raise_for_status()\n",
    "    except HTTPError as e:\n",
    "        print(\"伺服器錯誤\")\n",
    "        print(f\"錯誤:{e}\")\n",
    "        stockInfo.error = e\n",
    "    except ConnectionError as e:\n",
    "        print(\"連線錯誤\")\n",
    "        print(f\"錯誤:{e}\")\n",
    "        stockInfo.error = e\n",
    "    except Timeout as e:\n",
    "        print(\"伺服器忙錄\")\n",
    "        print(f\"錯誤:{e}\")\n",
    "        stockInfo.error = e\n",
    "    else:\n",
    "        try:\n",
    "            json=response.json()\n",
    "            stockInfo.time=json[\"time\"]\n",
    "            stockInfo.open=json[\"open\"]\n",
    "            stockInfo.close = json[\"close\"]\n",
    "            stockInfo.volume = json[\"volume\"]\n",
    "            stockInfo.millionAmount = json[\"millionAmount\"]\n",
    "            stockInfo.high = json[\"high\"]\n",
    "            stockInfo.low = json[\"low\"]\n",
    "        except requests.exceptions.JSONDecodeError as e:\n",
    "            print(\"json解析錯誤\")\n",
    "            stockInfo.error = \"json解析錯誤\"\n",
    "    \n",
    "    infoURL = \"https://www.wantgoo.com/stock/\"+stock+\"/company-profile-data\"\n",
    "    infoResponse=requests.get(infoURL, headers=header)\n",
    "    infoJson=infoResponse.json()\n",
    "    stockInfo.name = infoJson[\"name\"]\n",
    "    \n",
    "    return stockInfo"
   ]
  },
  {
   "cell_type": "code",
   "execution_count": 1,
   "id": "4fd68ff7",
   "metadata": {},
   "outputs": [
    {
     "ename": "KeyboardInterrupt",
     "evalue": "Interrupted by user",
     "output_type": "error",
     "traceback": [
      "\u001b[0;31m---------------------------------------------------------------------------\u001b[0m",
      "\u001b[0;31mKeyboardInterrupt\u001b[0m                         Traceback (most recent call last)",
      "\u001b[0;32m<ipython-input-1-7d8cea0eb240>\u001b[0m in \u001b[0;36m<module>\u001b[0;34m\u001b[0m\n\u001b[0;32m----> 1\u001b[0;31m \u001b[0mstockID\u001b[0m\u001b[0;34m=\u001b[0m\u001b[0minput\u001b[0m\u001b[0;34m(\u001b[0m\u001b[0;34m\"請輸入股票代號:\"\u001b[0m\u001b[0;34m)\u001b[0m\u001b[0;34m\u001b[0m\u001b[0;34m\u001b[0m\u001b[0m\n\u001b[0m\u001b[1;32m      2\u001b[0m \u001b[0mdata\u001b[0m \u001b[0;34m=\u001b[0m \u001b[0mgetData\u001b[0m\u001b[0;34m(\u001b[0m\u001b[0mstockID\u001b[0m\u001b[0;34m)\u001b[0m\u001b[0;34m\u001b[0m\u001b[0;34m\u001b[0m\u001b[0m\n\u001b[1;32m      3\u001b[0m \u001b[0;32mif\u001b[0m \u001b[0;32mnot\u001b[0m \u001b[0mdata\u001b[0m\u001b[0;34m.\u001b[0m\u001b[0merror\u001b[0m\u001b[0;34m:\u001b[0m\u001b[0;34m\u001b[0m\u001b[0;34m\u001b[0m\u001b[0m\n\u001b[1;32m      4\u001b[0m     \u001b[0;31m#沒有錯誤\u001b[0m\u001b[0;34m\u001b[0m\u001b[0;34m\u001b[0m\u001b[0;34m\u001b[0m\u001b[0m\n\u001b[1;32m      5\u001b[0m \u001b[0;34m\u001b[0m\u001b[0m\n",
      "\u001b[0;32m~/Documents/GitHub/pythonFlask/venv/lib/python3.8/site-packages/ipykernel/kernelbase.py\u001b[0m in \u001b[0;36mraw_input\u001b[0;34m(self, prompt)\u001b[0m\n\u001b[1;32m    846\u001b[0m                 \u001b[0;34m\"raw_input was called, but this frontend does not support input requests.\"\u001b[0m\u001b[0;34m\u001b[0m\u001b[0;34m\u001b[0m\u001b[0m\n\u001b[1;32m    847\u001b[0m             )\n\u001b[0;32m--> 848\u001b[0;31m         return self._input_request(str(prompt),\n\u001b[0m\u001b[1;32m    849\u001b[0m             \u001b[0mself\u001b[0m\u001b[0;34m.\u001b[0m\u001b[0m_parent_ident\u001b[0m\u001b[0;34m,\u001b[0m\u001b[0;34m\u001b[0m\u001b[0;34m\u001b[0m\u001b[0m\n\u001b[1;32m    850\u001b[0m             \u001b[0mself\u001b[0m\u001b[0;34m.\u001b[0m\u001b[0m_parent_header\u001b[0m\u001b[0;34m,\u001b[0m\u001b[0;34m\u001b[0m\u001b[0;34m\u001b[0m\u001b[0m\n",
      "\u001b[0;32m~/Documents/GitHub/pythonFlask/venv/lib/python3.8/site-packages/ipykernel/kernelbase.py\u001b[0m in \u001b[0;36m_input_request\u001b[0;34m(self, prompt, ident, parent, password)\u001b[0m\n\u001b[1;32m    890\u001b[0m             \u001b[0;32mexcept\u001b[0m \u001b[0mKeyboardInterrupt\u001b[0m\u001b[0;34m:\u001b[0m\u001b[0;34m\u001b[0m\u001b[0;34m\u001b[0m\u001b[0m\n\u001b[1;32m    891\u001b[0m                 \u001b[0;31m# re-raise KeyboardInterrupt, to truncate traceback\u001b[0m\u001b[0;34m\u001b[0m\u001b[0;34m\u001b[0m\u001b[0;34m\u001b[0m\u001b[0m\n\u001b[0;32m--> 892\u001b[0;31m                 \u001b[0;32mraise\u001b[0m \u001b[0mKeyboardInterrupt\u001b[0m\u001b[0;34m(\u001b[0m\u001b[0;34m\"Interrupted by user\"\u001b[0m\u001b[0;34m)\u001b[0m \u001b[0;32mfrom\u001b[0m \u001b[0;32mNone\u001b[0m\u001b[0;34m\u001b[0m\u001b[0;34m\u001b[0m\u001b[0m\n\u001b[0m\u001b[1;32m    893\u001b[0m             \u001b[0;32mexcept\u001b[0m \u001b[0mException\u001b[0m \u001b[0;32mas\u001b[0m \u001b[0me\u001b[0m\u001b[0;34m:\u001b[0m\u001b[0;34m\u001b[0m\u001b[0;34m\u001b[0m\u001b[0m\n\u001b[1;32m    894\u001b[0m                 \u001b[0mself\u001b[0m\u001b[0;34m.\u001b[0m\u001b[0mlog\u001b[0m\u001b[0;34m.\u001b[0m\u001b[0mwarning\u001b[0m\u001b[0;34m(\u001b[0m\u001b[0;34m\"Invalid Message:\"\u001b[0m\u001b[0;34m,\u001b[0m \u001b[0mexc_info\u001b[0m\u001b[0;34m=\u001b[0m\u001b[0;32mTrue\u001b[0m\u001b[0;34m)\u001b[0m\u001b[0;34m\u001b[0m\u001b[0;34m\u001b[0m\u001b[0m\n",
      "\u001b[0;31mKeyboardInterrupt\u001b[0m: Interrupted by user"
     ]
    }
   ],
   "source": [
    "stockID=input(\"請輸入股票代號:\")\n",
    "data = getData(stockID)\n",
    "if not data.error:\n",
    "    #沒有錯誤\n",
    "    \n",
    "    print(f\"股票代號:{data.id}\")\n",
    "    print(f\"股票名稱:{data.name}\")\n",
    "    print(f\"收盤價:{data.close}\")\n",
    "else:\n",
    "    print(\"資類取得錯誤\",data.error)"
   ]
  },
  {
   "cell_type": "code",
   "execution_count": 37,
   "id": "ed7a3d15",
   "metadata": {},
   "outputs": [
    {
     "name": "stdout",
     "output_type": "stream",
     "text": [
      "第一次執行\n"
     ]
    },
    {
     "ename": "AttributeError",
     "evalue": "'NoneType' object has no attribute 'string'",
     "output_type": "error",
     "traceback": [
      "\u001b[0;31m---------------------------------------------------------------------------\u001b[0m",
      "\u001b[0;31mAttributeError\u001b[0m                            Traceback (most recent call last)",
      "\u001b[0;32m<ipython-input-37-eba41db0807a>\u001b[0m in \u001b[0;36m<module>\u001b[0;34m\u001b[0m\n\u001b[1;32m     43\u001b[0m \u001b[0;34m\u001b[0m\u001b[0m\n\u001b[1;32m     44\u001b[0m \u001b[0;34m\u001b[0m\u001b[0m\n\u001b[0;32m---> 45\u001b[0;31m \u001b[0mgetStockInfo\u001b[0m\u001b[0;34m(\u001b[0m\u001b[0;34m\"2330\"\u001b[0m\u001b[0;34m)\u001b[0m\u001b[0;34m\u001b[0m\u001b[0;34m\u001b[0m\u001b[0m\n\u001b[0m\u001b[1;32m     46\u001b[0m \u001b[0mtime\u001b[0m\u001b[0;34m.\u001b[0m\u001b[0msleep\u001b[0m\u001b[0;34m(\u001b[0m\u001b[0;36m5\u001b[0m\u001b[0;34m)\u001b[0m\u001b[0;34m\u001b[0m\u001b[0;34m\u001b[0m\u001b[0m\n\u001b[1;32m     47\u001b[0m \u001b[0mgetStockInfo\u001b[0m\u001b[0;34m(\u001b[0m\u001b[0;34m\"2330\"\u001b[0m\u001b[0;34m)\u001b[0m\u001b[0;34m\u001b[0m\u001b[0;34m\u001b[0m\u001b[0m\n",
      "\u001b[0;32m<ipython-input-37-eba41db0807a>\u001b[0m in \u001b[0;36mgetStockInfo\u001b[0;34m(odd_number)\u001b[0m\n\u001b[1;32m     20\u001b[0m     \u001b[0msoup\u001b[0m \u001b[0;34m=\u001b[0m \u001b[0mBeautifulSoup\u001b[0m\u001b[0;34m(\u001b[0m\u001b[0mdriver\u001b[0m\u001b[0;34m.\u001b[0m\u001b[0mpage_source\u001b[0m\u001b[0;34m,\u001b[0m\u001b[0;34m'html.parser'\u001b[0m\u001b[0;34m)\u001b[0m\u001b[0;34m\u001b[0m\u001b[0;34m\u001b[0m\u001b[0m\n\u001b[1;32m     21\u001b[0m     \u001b[0mtableNode\u001b[0m\u001b[0;34m=\u001b[0m\u001b[0msoup\u001b[0m\u001b[0;34m.\u001b[0m\u001b[0mfind\u001b[0m\u001b[0;34m(\u001b[0m\u001b[0mid\u001b[0m\u001b[0;34m=\u001b[0m\u001b[0;34m\"hor-minimalist-a\"\u001b[0m\u001b[0;34m)\u001b[0m\u001b[0;34m\u001b[0m\u001b[0;34m\u001b[0m\u001b[0m\n\u001b[0;32m---> 22\u001b[0;31m     \u001b[0mtitle\u001b[0m \u001b[0;34m=\u001b[0m \u001b[0msoup\u001b[0m\u001b[0;34m.\u001b[0m\u001b[0mfind\u001b[0m\u001b[0;34m(\u001b[0m\u001b[0mid\u001b[0m\u001b[0;34m=\u001b[0m\u001b[0modd_number\u001b[0m\u001b[0;34m+\u001b[0m\u001b[0;34m\"_t_odd\"\u001b[0m\u001b[0;34m,\u001b[0m\u001b[0mclass_\u001b[0m\u001b[0;34m=\u001b[0m\u001b[0;34m\"title\"\u001b[0m\u001b[0;34m)\u001b[0m\u001b[0;34m.\u001b[0m\u001b[0mstring\u001b[0m\u001b[0;34m\u001b[0m\u001b[0;34m\u001b[0m\u001b[0m\n\u001b[0m\u001b[1;32m     23\u001b[0m     \u001b[0mt_odd\u001b[0m\u001b[0;34m=\u001b[0m\u001b[0msoup\u001b[0m\u001b[0;34m.\u001b[0m\u001b[0mfind\u001b[0m\u001b[0;34m(\u001b[0m\u001b[0mid\u001b[0m\u001b[0;34m=\u001b[0m\u001b[0modd_number\u001b[0m\u001b[0;34m+\u001b[0m\u001b[0;34m\"_t_odd\"\u001b[0m\u001b[0;34m)\u001b[0m\u001b[0;34m.\u001b[0m\u001b[0mstring\u001b[0m\u001b[0;34m\u001b[0m\u001b[0;34m\u001b[0m\u001b[0m\n\u001b[1;32m     24\u001b[0m     \u001b[0modd\u001b[0m \u001b[0;34m=\u001b[0m \u001b[0msoup\u001b[0m\u001b[0;34m.\u001b[0m\u001b[0mfind\u001b[0m\u001b[0;34m(\u001b[0m\u001b[0mid\u001b[0m\u001b[0;34m=\u001b[0m\u001b[0modd_number\u001b[0m\u001b[0;34m+\u001b[0m\u001b[0;34m\"_z_odd\"\u001b[0m\u001b[0;34m)\u001b[0m\u001b[0;34m.\u001b[0m\u001b[0mstring\u001b[0m\u001b[0;34m\u001b[0m\u001b[0;34m\u001b[0m\u001b[0m\n",
      "\u001b[0;31mAttributeError\u001b[0m: 'NoneType' object has no attribute 'string'"
     ]
    }
   ],
   "source": [
    "#台灣證券交易所\n",
    "from selenium import webdriver\n",
    "from selenium.webdriver.common.by import By\n",
    "import time\n",
    "from bs4 import BeautifulSoup\n",
    "driver = webdriver.Chrome('/Users/roberthsu2003/Downloads/chromedriver')\n",
    "\n",
    "def getStockInfo(odd_number):    \n",
    "    url = \"https://mis.twse.com.tw/stock/fibest.jsp?stock=\"+odd_number    \n",
    "    if driver.current_url == url:\n",
    "        print(\"重覆執行\")\n",
    "        driver.refresh()       \n",
    "        \n",
    "    else:\n",
    "        print(\"第一次執行\")\n",
    "        driver.get(url)\n",
    "        \n",
    "    driver.find_element_by_id(\"btnChangeToOdd\").click()\n",
    "    time.sleep(1)\n",
    "    soup = BeautifulSoup(driver.page_source,'html.parser')\n",
    "    tableNode=soup.find(id=\"hor-minimalist-a\")\n",
    "    title = soup.find(id=odd_number+\"_t_odd\",class_=\"title\").string\n",
    "    t_odd=soup.find(id=odd_number+\"_t_odd\").string\n",
    "    odd = soup.find(id=odd_number+\"_z_odd\").string\n",
    "    diff_odd = soup.find(id=odd_number+\"_diff_odd\").string\n",
    "    percent_odd = soup.find(id=odd_number+\"_pre_odd\").string\n",
    "    tv_odd = soup.find(id=odd_number+\"_tv_odd\").string\n",
    "    v_odd = soup.find(id=odd_number+\"_v\").string\n",
    "    o_odd = soup.find(id=odd_number+\"_o\").string\n",
    "    h_odd = soup.find(id=odd_number+\"_h\").string\n",
    "    l_odd = soup.find(id=odd_number+\"_l\").string\n",
    "    print(title)\n",
    "    print(\"成交時間\",t_odd)\n",
    "    print(\"成交價\",odd)\n",
    "    print(\"目前狀況\",diff_odd)\n",
    "    print(\"漲跌價差(百分比)\",percent_odd)\n",
    "    print(\"當盤_成交量\",tv_odd)\n",
    "    print(\"累積_成交量\",v_odd)\n",
    "    print(\"開盤價\",o_odd)\n",
    "    print(\"最高\",h_odd)\n",
    "    print(\"最低\",l_odd)\n",
    "    \n",
    "\n",
    "\n",
    "getStockInfo(\"2330\")\n",
    "time.sleep(5)\n",
    "getStockInfo(\"2330\")\n",
    "time.sleep(5)\n",
    "getStockInfo(\"2345\")\n",
    "\n",
    "driver.close()"
   ]
  },
  {
   "cell_type": "code",
   "execution_count": null,
   "id": "8060bbab",
   "metadata": {},
   "outputs": [],
   "source": []
  }
 ],
 "metadata": {
  "kernelspec": {
   "display_name": "Python 3",
   "language": "python",
   "name": "python3"
  },
  "language_info": {
   "codemirror_mode": {
    "name": "ipython",
    "version": 3
   },
   "file_extension": ".py",
   "mimetype": "text/x-python",
   "name": "python",
   "nbconvert_exporter": "python",
   "pygments_lexer": "ipython3",
   "version": "3.8.7"
  }
 },
 "nbformat": 4,
 "nbformat_minor": 5
}
