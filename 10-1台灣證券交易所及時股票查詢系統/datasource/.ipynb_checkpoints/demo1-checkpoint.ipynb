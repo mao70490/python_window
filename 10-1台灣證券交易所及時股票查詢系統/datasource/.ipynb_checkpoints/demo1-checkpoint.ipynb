{
 "cells": [
  {
   "cell_type": "code",
   "execution_count": 1,
   "id": "8a71bf2d",
   "metadata": {},
   "outputs": [],
   "source": [
    "import requests\n",
    "from requests import HTTPError, ConnectionError, Timeout\n",
    "from Info import StockInfo\n",
    "\n",
    "def getData(stock):\n",
    "    stockInfo = StockInfo()\n",
    "    stockInfo.id = stock\n",
    "    url = 'https://www.wantgoo.com/investrue/'+stock+'/daily-candlestick'\n",
    "    header = {'user-agent':'Mozilla/5.0 (Macintosh; Intel Mac OS X 10_15_7) AppleWebKit/537.36 (KHTML, like Gecko) Chrome/92.0.4515.131 Safari/537.36'}\n",
    "    try:\n",
    "        response = requests.get(url, headers = header)\n",
    "        response.raise_for_status()\n",
    "    except HTTPError as e:\n",
    "        print('找不到主機')\n",
    "        print(f'錯誤：{e}')\n",
    "        stockInfo.error = e\n",
    "    except ConnectionError as e:\n",
    "        print('連線錯誤')\n",
    "        print(f'錯誤：{e}')\n",
    "        stockInfo.error = e\n",
    "    except Timeout as e:\n",
    "        print('伺服器忙碌')\n",
    "        print(f'錯誤：{e}')\n",
    "        stockInfo.error = e\n",
    "    else:\n",
    "        try:\n",
    "            json = response.json()\n",
    "            stockInfo.time = json['time']\n",
    "            stockInfo.open = json['open']\n",
    "            stockInfo.close = json['close']\n",
    "            stockInfo.volume = json['volume']\n",
    "            stockInfo.millionAmount = json['millionAmount']\n",
    "            stockInfo.high = json['high']\n",
    "            stockInfo.low = json['low']\n",
    "            \n",
    "        except requests.exceptions.JSONDecodeError as e:\n",
    "            print('json 解析錯誤')\n",
    "            stockInfo.error = 'json解析錯誤'\n",
    "    infoURL = 'https://www.wantgoo.com/stock/'+stock+'/company-profile-data'\n",
    "    infoResponse = requests.get(infoURL, headers = header)\n",
    "    infojson = infoResponse.json()\n",
    "    stockInfo.name = infojson['name']\n",
    "    return stockInfo\n"
   ]
  },
  {
   "cell_type": "code",
   "execution_count": 2,
   "id": "6a5d484e",
   "metadata": {},
   "outputs": [
    {
     "name": "stdout",
     "output_type": "stream",
     "text": [
      "請輸入股票代號：2330\n",
      "None\n",
      "股票代號：2330\n",
      "股票名稱：台灣積體電路製造股份有限公司\n",
      "收盤價：596.0\n"
     ]
    }
   ],
   "source": [
    "stockID = input('請輸入股票代號：')\n",
    "data = getData(stockID)\n",
    "print(data.error)\n",
    "if not data.error:\n",
    "    # 沒有錯誤\n",
    "    print(f'股票代號：{data.id}')\n",
    "    print(f'股票名稱：{data.name}')\n",
    "    print(f'收盤價：{data.close}')\n",
    "else:\n",
    "    print('資料取得錯誤', data.error)"
   ]
  },
  {
   "cell_type": "code",
   "execution_count": 3,
   "id": "7bc7cdb3",
   "metadata": {},
   "outputs": [
    {
     "ename": "NameError",
     "evalue": "name 'json' is not defined",
     "output_type": "error",
     "traceback": [
      "\u001b[0;31m---------------------------------------------------------------------------\u001b[0m",
      "\u001b[0;31mNameError\u001b[0m                                 Traceback (most recent call last)",
      "\u001b[0;32m<ipython-input-3-59bf1f2293fa>\u001b[0m in \u001b[0;36m<module>\u001b[0;34m\u001b[0m\n\u001b[0;32m----> 1\u001b[0;31m \u001b[0mjson\u001b[0m\u001b[0;34m[\u001b[0m\u001b[0;34m'close'\u001b[0m\u001b[0;34m]\u001b[0m\u001b[0;34m\u001b[0m\u001b[0;34m\u001b[0m\u001b[0m\n\u001b[0m",
      "\u001b[0;31mNameError\u001b[0m: name 'json' is not defined"
     ]
    }
   ],
   "source": [
    "json['close']"
   ]
  },
  {
   "cell_type": "code",
   "execution_count": null,
   "id": "1914b6f2",
   "metadata": {},
   "outputs": [],
   "source": []
  }
 ],
 "metadata": {
  "kernelspec": {
   "display_name": "Python 3",
   "language": "python",
   "name": "python3"
  },
  "language_info": {
   "codemirror_mode": {
    "name": "ipython",
    "version": 3
   },
   "file_extension": ".py",
   "mimetype": "text/x-python",
   "name": "python",
   "nbconvert_exporter": "python",
   "pygments_lexer": "ipython3",
   "version": "3.8.7"
  }
 },
 "nbformat": 4,
 "nbformat_minor": 5
}
